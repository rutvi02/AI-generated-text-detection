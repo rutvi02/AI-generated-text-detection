{
 "cells": [
  {
   "cell_type": "code",
   "execution_count": 1,
   "id": "c60d71b3",
   "metadata": {},
   "outputs": [
    {
     "data": {
      "text/plain": [
       "(29145, 2)"
      ]
     },
     "execution_count": 1,
     "metadata": {},
     "output_type": "execute_result"
    }
   ],
   "source": [
    "import pandas as pd\n",
    "df = pd.read_csv('Training_Essay_Data.csv')\n",
    "df.shape"
   ]
  },
  {
   "cell_type": "code",
   "execution_count": 2,
   "id": "c136a15c",
   "metadata": {},
   "outputs": [
    {
     "data": {
      "text/html": [
       "<div>\n",
       "<style scoped>\n",
       "    .dataframe tbody tr th:only-of-type {\n",
       "        vertical-align: middle;\n",
       "    }\n",
       "\n",
       "    .dataframe tbody tr th {\n",
       "        vertical-align: top;\n",
       "    }\n",
       "\n",
       "    .dataframe thead th {\n",
       "        text-align: right;\n",
       "    }\n",
       "</style>\n",
       "<table border=\"1\" class=\"dataframe\">\n",
       "  <thead>\n",
       "    <tr style=\"text-align: right;\">\n",
       "      <th></th>\n",
       "      <th>text</th>\n",
       "      <th>generated</th>\n",
       "    </tr>\n",
       "  </thead>\n",
       "  <tbody>\n",
       "    <tr>\n",
       "      <th>0</th>\n",
       "      <td>Car-free cities have become a subject of incre...</td>\n",
       "      <td>1</td>\n",
       "    </tr>\n",
       "    <tr>\n",
       "      <th>1</th>\n",
       "      <td>Car Free Cities  Car-free cities, a concept ga...</td>\n",
       "      <td>1</td>\n",
       "    </tr>\n",
       "    <tr>\n",
       "      <th>2</th>\n",
       "      <td>A Sustainable Urban Future  Car-free cities ...</td>\n",
       "      <td>1</td>\n",
       "    </tr>\n",
       "    <tr>\n",
       "      <th>3</th>\n",
       "      <td>Pioneering Sustainable Urban Living  In an e...</td>\n",
       "      <td>1</td>\n",
       "    </tr>\n",
       "    <tr>\n",
       "      <th>4</th>\n",
       "      <td>The Path to Sustainable Urban Living  In an ...</td>\n",
       "      <td>1</td>\n",
       "    </tr>\n",
       "  </tbody>\n",
       "</table>\n",
       "</div>"
      ],
      "text/plain": [
       "                                                text  generated\n",
       "0  Car-free cities have become a subject of incre...          1\n",
       "1  Car Free Cities  Car-free cities, a concept ga...          1\n",
       "2    A Sustainable Urban Future  Car-free cities ...          1\n",
       "3    Pioneering Sustainable Urban Living  In an e...          1\n",
       "4    The Path to Sustainable Urban Living  In an ...          1"
      ]
     },
     "execution_count": 2,
     "metadata": {},
     "output_type": "execute_result"
    }
   ],
   "source": [
    "df.head()"
   ]
  },
  {
   "cell_type": "code",
   "execution_count": 3,
   "id": "a87fc65f",
   "metadata": {},
   "outputs": [
    {
     "data": {
      "text/plain": [
       "0    17508\n",
       "1    11637\n",
       "Name: generated, dtype: int64"
      ]
     },
     "execution_count": 3,
     "metadata": {},
     "output_type": "execute_result"
    }
   ],
   "source": [
    "df['generated'].value_counts()"
   ]
  },
  {
   "cell_type": "code",
   "execution_count": 4,
   "id": "51d3fc95",
   "metadata": {},
   "outputs": [
    {
     "data": {
      "image/png": "[encoded data removed]",
      "text/plain": [
       "<Figure size 640x480 with 1 Axes>"
      ]
     },
     "metadata": {},
     "output_type": "display_data"
    }
   ],
   "source": [
    "df['generated'].value_counts().plot.bar(title='Number of samples by category');"
   ]
  },
  {
   "cell_type": "code",
   "execution_count": 5,
   "id": "142b3fc8",
   "metadata": {},
   "outputs": [
    {
     "data": {
      "text/plain": [
       "count    29145.000000\n",
       "mean       383.144519\n",
       "std        171.845881\n",
       "min          1.000000\n",
       "25%        263.000000\n",
       "50%        351.000000\n",
       "75%        474.000000\n",
       "max       1650.000000\n",
       "Name: text, dtype: float64"
      ]
     },
     "execution_count": 5,
     "metadata": {},
     "output_type": "execute_result"
    }
   ],
   "source": [
    "df['text'].str.split().apply(len).describe()"
   ]
  },
  {
   "cell_type": "code",
   "execution_count": 6,
   "id": "86cfca8c",
   "metadata": {},
   "outputs": [
    {
     "data": {
      "text/plain": [
       "']'"
      ]
     },
     "execution_count": 6,
     "metadata": {},
     "output_type": "execute_result"
    }
   ],
   "source": [
    "# the text that have the least number of words\n",
    "df[df['text'].str.split().apply(len) == 1]['text'].values[0]"
   ]
  },
  {
   "cell_type": "code",
   "execution_count": 7,
   "id": "c3e6bbf6",
   "metadata": {},
   "outputs": [
    {
     "data": {
      "text/html": [
       "<div>\n",
       "<style scoped>\n",
       "    .dataframe tbody tr th:only-of-type {\n",
       "        vertical-align: middle;\n",
       "    }\n",
       "\n",
       "    .dataframe tbody tr th {\n",
       "        vertical-align: top;\n",
       "    }\n",
       "\n",
       "    .dataframe thead th {\n",
       "        text-align: right;\n",
       "    }\n",
       "</style>\n",
       "<table border=\"1\" class=\"dataframe\">\n",
       "  <thead>\n",
       "    <tr style=\"text-align: right;\">\n",
       "      <th></th>\n",
       "      <th>text</th>\n",
       "      <th>generated</th>\n",
       "    </tr>\n",
       "  </thead>\n",
       "  <tbody>\n",
       "    <tr>\n",
       "      <th>2728</th>\n",
       "      <td>Code]\\n[Email Address]\\n[Phone Number]</td>\n",
       "      <td>1</td>\n",
       "    </tr>\n",
       "    <tr>\n",
       "      <th>2735</th>\n",
       "      <td>]\\n\\n[Email]\\n\\n[Phone Number]</td>\n",
       "      <td>1</td>\n",
       "    </tr>\n",
       "    <tr>\n",
       "      <th>2743</th>\n",
       "      <td>]</td>\n",
       "      <td>1</td>\n",
       "    </tr>\n",
       "    <tr>\n",
       "      <th>2744</th>\n",
       "      <td>]\\n[Email]\\n[Phone Number]</td>\n",
       "      <td>1</td>\n",
       "    </tr>\n",
       "    <tr>\n",
       "      <th>2753</th>\n",
       "      <td>]\\n[Email Address]\\n[Phone Number]</td>\n",
       "      <td>1</td>\n",
       "    </tr>\n",
       "    <tr>\n",
       "      <th>2825</th>\n",
       "      <td>]\\n[Email Address]\\n[Phone Number]</td>\n",
       "      <td>1</td>\n",
       "    </tr>\n",
       "  </tbody>\n",
       "</table>\n",
       "</div>"
      ],
      "text/plain": [
       "                                        text  generated\n",
       "2728  Code]\\n[Email Address]\\n[Phone Number]          1\n",
       "2735          ]\\n\\n[Email]\\n\\n[Phone Number]          1\n",
       "2743                                       ]          1\n",
       "2744              ]\\n[Email]\\n[Phone Number]          1\n",
       "2753      ]\\n[Email Address]\\n[Phone Number]          1\n",
       "2825      ]\\n[Email Address]\\n[Phone Number]          1"
      ]
     },
     "execution_count": 7,
     "metadata": {},
     "output_type": "execute_result"
    }
   ],
   "source": [
    "df[df['text'].str.split().apply(len) < 20]"
   ]
  },
  {
   "cell_type": "code",
   "execution_count": 8,
   "id": "1cc843f1",
   "metadata": {},
   "outputs": [
    {
     "data": {
      "text/plain": [
       "\"Phones & driving\\n\\nI strongly agree with cell phones being banned while driving. I can honestly say that I have almost run into someone's back on numerous occasions because I was focused on texting on my phone. I think driving while using cell phones should be banned because of the many car accidents they are causing, it is causing one's insurance to rise, and it is causing concern to people's health issues. The question is people more concerned more with their conveniences more than they are with their safety or safety of others. It is a habit that spreads like STDs. In the long run, it is deadly as well Cell phones are the omnipresent electronic device of this era, and multitasking is the word of this generation so, it is quite natural to see many. So we really should not be driving with phone\\n\\nDriving with phone cause more accident studies proves that also drunk driving One cannot focus fully on the road and the other vehicles, if one keeps talking on phone consistently while driving\""
      ]
     },
     "execution_count": 8,
     "metadata": {},
     "output_type": "execute_result"
    }
   ],
   "source": [
    "# the text that have the most number of words, show only the first 1000 characters \n",
    "df[df['text'].str.split().apply(len) == 1650]['text'].values[0][:1000]"
   ]
  },
  {
   "cell_type": "code",
   "execution_count": 9,
   "id": "6f705d13",
   "metadata": {},
   "outputs": [
    {
     "data": {
      "text/html": [
       "<div>\n",
       "<style scoped>\n",
       "    .dataframe tbody tr th:only-of-type {\n",
       "        vertical-align: middle;\n",
       "    }\n",
       "\n",
       "    .dataframe tbody tr th {\n",
       "        vertical-align: top;\n",
       "    }\n",
       "\n",
       "    .dataframe thead th {\n",
       "        text-align: right;\n",
       "    }\n",
       "</style>\n",
       "<table border=\"1\" class=\"dataframe\">\n",
       "  <thead>\n",
       "    <tr style=\"text-align: right;\">\n",
       "      <th></th>\n",
       "      <th>text</th>\n",
       "      <th>generated</th>\n",
       "    </tr>\n",
       "  </thead>\n",
       "  <tbody>\n",
       "    <tr>\n",
       "      <th>3373</th>\n",
       "      <td>Phones &amp; driving\\n\\nI strongly agree with cell...</td>\n",
       "      <td>0</td>\n",
       "    </tr>\n",
       "  </tbody>\n",
       "</table>\n",
       "</div>"
      ],
      "text/plain": [
       "                                                   text  generated\n",
       "3373  Phones & driving\\n\\nI strongly agree with cell...          0"
      ]
     },
     "execution_count": 9,
     "metadata": {},
     "output_type": "execute_result"
    }
   ],
   "source": [
    "df[df['text'].str.split().apply(len) == 1650]"
   ]
  },
  {
   "cell_type": "code",
   "execution_count": 10,
   "id": "608d839e",
   "metadata": {},
   "outputs": [],
   "source": [
    "#removing new line and tab characters or removing special characters,\n",
    "df['text'] = df['text'].str.replace('\\n', ' ').replace('\\t', ' ')"
   ]
  },
  {
   "cell_type": "code",
   "execution_count": 11,
   "id": "a9172f28",
   "metadata": {},
   "outputs": [
    {
     "data": {
      "text/plain": [
       "\"Phones & driving  I strongly agree with cell phones being banned while driving. I can honestly say that I have almost run into someone's back on numerous occasions because I was focused on texting on my phone. I think driving while using cell phones should be banned because of the many car accidents they are causing, it is causing one's insurance to rise, and it is causing concern to people's health issues. The question is people more concerned more with their conveniences more than they are with their safety or safety of others. It is a habit that spreads like STDs. In the long run, it is deadly as well Cell phones are the omnipresent electronic device of this era, and multitasking is the word of this generation so, it is quite natural to see many. So we really should not be driving with phone  Driving with phone cause more accident studies proves that also drunk driving One cannot focus fully on the road and the other vehicles, if one keeps talking on phone consistently while driving\""
      ]
     },
     "execution_count": 11,
     "metadata": {},
     "output_type": "execute_result"
    }
   ],
   "source": [
    "df[df['text'].str.split().apply(len) == 1650]['text'].values[0][:1000]"
   ]
  },
  {
   "cell_type": "code",
   "execution_count": 12,
   "id": "0b10f406",
   "metadata": {},
   "outputs": [],
   "source": [
    "import pandas as pd\n",
    "from sklearn.preprocessing import LabelEncoder\n",
    "from sklearn.model_selection import train_test_split\n",
    "from sklearn.feature_extraction.text import TfidfVectorizer\n",
    "from tensorflow.keras.preprocessing.text import Tokenizer\n",
    "from tensorflow.keras.preprocessing.sequence import pad_sequences\n",
    "import scipy\n"
   ]
  },
  {
   "cell_type": "code",
   "execution_count": 13,
   "id": "f7b011e9",
   "metadata": {},
   "outputs": [],
   "source": [
    "x_train, x_test, y_train, y_test = train_test_split(\n",
    "    df['text'], df['generated'], test_size=.2, stratify=df['generated'], random_state=42)"
   ]
  },
  {
   "cell_type": "code",
   "execution_count": 14,
   "id": "33d7982a",
   "metadata": {},
   "outputs": [
    {
     "data": {
      "text/plain": [
       "'Car-free cities have become a subject of increasing interest and debate in recent years, as urban areas around the world grapple with the challenges of congestion, pollution, and limited resources. The concept of a car-free city involves creating urban environments where private automobiles are either significantly restricted or completely banned, with a focus on alternative transportation methods and sustainable urban planning. This essay explores the benefits, challenges, and potential solutions associated with the idea of car-free cities.  Benefits of Car-Free Cities  Environmental Sustainability: Car-free cities promote environmental sustainability by reducing air pollution and greenhouse gas emissions. Fewer cars on the road mean cleaner air and a significant decrease in the contribution to global warming.  Improved Public Health: A reduction in automobile usage can lead to better public health outcomes. Fewer cars on the road result in fewer accidents and a safer urban environment'"
      ]
     },
     "execution_count": 14,
     "metadata": {},
     "output_type": "execute_result"
    }
   ],
   "source": [
    "x_train[0][:1001]"
   ]
  },
  {
   "cell_type": "code",
   "execution_count": 15,
   "id": "e43514ed",
   "metadata": {},
   "outputs": [
    {
     "name": "stdout",
     "output_type": "stream",
     "text": [
      "(23316, 64172)\n"
     ]
    }
   ],
   "source": [
    "def tfidf_transform(x_train, x_test):\n",
    "    kwargs = {\n",
    "            'ngram_range': (1,1),  # Use 1-grams + 2-grams.\n",
    "            'analyzer': 'word',  # Split text into word tokens.\n",
    "            'min_df': 1,\n",
    "            'stop_words': \"english\",\n",
    "    }\n",
    "    vectorizer = TfidfVectorizer(**kwargs)\n",
    "    # Learn vocabulary from training texts and vectorize training texts.\n",
    "    x_train_transformed = vectorizer.fit_transform(x_train)\n",
    "    # Vectorize validation texts.\n",
    "    x_test_transformed = vectorizer.transform(x_test)\n",
    "    return x_train_transformed, x_test_transformed\n",
    "\n",
    "tfidf_train, tfidf_test = tfidf_transform(x_train, x_test)\n",
    "print(tfidf_train.shape)"
   ]
  },
  {
   "cell_type": "code",
   "execution_count": 16,
   "id": "bb8b1b99",
   "metadata": {},
   "outputs": [
    {
     "data": {
      "text/plain": [
       "array([0.08861361, 0.05751849, 0.0682096 , 0.13348304, 0.10218383,\n",
       "       0.05739524, 0.06742823, 0.05632429, 0.14183044, 0.0554695 ,\n",
       "       0.04454442, 0.04868622, 0.14035124, 0.12068999, 0.07037779,\n",
       "       0.18493399, 0.06574694, 0.09693486, 0.20271697, 0.17672654,\n",
       "       0.14871173, 0.16496274, 0.4207982 , 0.19510319, 0.07894747,\n",
       "       0.15839126, 0.07100839, 0.06369237, 0.06301492, 0.33428272,\n",
       "       0.31630328, 0.04419834, 0.22064824, 0.05562733, 0.16777805,\n",
       "       0.14889503, 0.11110161, 0.08289815, 0.07949755, 0.07225024,\n",
       "       0.0723327 , 0.16278639, 0.1428878 , 0.14860736, 0.09957126,\n",
       "       0.08536626, 0.07075593, 0.0775047 ])"
      ]
     },
     "execution_count": 16,
     "metadata": {},
     "output_type": "execute_result"
    }
   ],
   "source": [
    "tfidf_train[0].data"
   ]
  },
  {
   "cell_type": "code",
   "execution_count": 17,
   "id": "6d041a7f",
   "metadata": {},
   "outputs": [
    {
     "name": "stdout",
     "output_type": "stream",
     "text": [
      "[[0. 0. 0. ... 0. 0. 0.]]\n",
      "23316\n",
      "[[0.04868622 0.1428878  0.06301492 0.06742823 0.33428272 0.14889503\n",
      "  0.16278639 0.07100839 0.04454442 0.13348304 0.07894747 0.07037779\n",
      "  0.14871173 0.07949755 0.0775047  0.08861361 0.08289815 0.05751849\n",
      "  0.14860736 0.09957126 0.16777805 0.18493399 0.17672654 0.05562733\n",
      "  0.20271697 0.14183044 0.04419834 0.4207982  0.16496274 0.0682096\n",
      "  0.14035124 0.19510319 0.10218383 0.09693486 0.07225024 0.15839126\n",
      "  0.05739524 0.06369237 0.05632429 0.06574694 0.31630328 0.11110161\n",
      "  0.07075593 0.22064824 0.0554695  0.12068999 0.08536626 0.0723327 ]]\n"
     ]
    }
   ],
   "source": [
    "train_tfidf_dense = scipy.sparse.csr_matrix.todense(tfidf_train)\n",
    "print(train_tfidf_dense[0]) # [train_tfidf_dense[0] != 0][0]\n",
    "print(len(train_tfidf_dense))\n",
    "print(train_tfidf_dense[0][train_tfidf_dense[0] != 0][0])"
   ]
  },
  {
   "cell_type": "code",
   "execution_count": 18,
   "id": "be101850",
   "metadata": {},
   "outputs": [],
   "source": [
    "def pad_sequence_transform(x_train, x_test, vocab_size=50000, max_len=20000):\n",
    "    \"\"\"Convert input raw tests into pad sequence encoded integer matrix\n",
    "    Args:\n",
    "        x_train: array of input text, the raw input training text data\n",
    "        x_test: array of input text, the raw input test text data\n",
    "        vocab_size: maximum number of vocabulary used for tokenization\n",
    "                    default to 50000\n",
    "        max_len: maximum length of padded sequences\n",
    "                default to 20000\n",
    "    \"\"\"\n",
    "    oov_tok = '<OOV>'\n",
    "    tokenizer = Tokenizer(num_words=vocab_size, oov_token=oov_tok)\n",
    "    tokenizer.fit_on_texts(x_train)\n",
    "    word_index = tokenizer.word_index\n",
    "    x_seq = tokenizer.texts_to_sequences(x_train)\n",
    "    train_padded = pad_sequences(x_seq, padding='post', maxlen=max_len)\n",
    "    test_padded = pad_sequences(tokenizer.texts_to_sequences(x_test), padding='post', maxlen=max_len)\n",
    "    return train_padded, test_padded\n",
    "\n",
    "train_padded, test_padded = pad_sequence_transform(x_train, x_test)"
   ]
  },
  {
   "cell_type": "code",
   "execution_count": 19,
   "id": "7501adeb",
   "metadata": {},
   "outputs": [
    {
     "data": {
      "text/plain": [
       "(23316, 20000)"
      ]
     },
     "execution_count": 19,
     "metadata": {},
     "output_type": "execute_result"
    }
   ],
   "source": [
    "train_padded.shape"
   ]
  },
  {
   "cell_type": "code",
   "execution_count": 20,
   "id": "17f34edd",
   "metadata": {},
   "outputs": [
    {
     "data": {
      "text/plain": [
       "array([  7,  20, 722,  26,  38, 414,  55,  30,   2,  80])"
      ]
     },
     "execution_count": 20,
     "metadata": {},
     "output_type": "execute_result"
    }
   ],
   "source": [
    "train_padded[0][:10]"
   ]
  },
  {
   "cell_type": "code",
   "execution_count": 21,
   "id": "92c1343b",
   "metadata": {},
   "outputs": [],
   "source": [
    "import tensorflow as tf\n",
    "import pandas as pd\n",
    "import numpy as np\n",
    "import scipy\n",
    "from tensorflow.keras.preprocessing.text import Tokenizer\n",
    "from tensorflow.keras.preprocessing.sequence import pad_sequences\n",
    "from sklearn.model_selection import train_test_split"
   ]
  },
  {
   "cell_type": "code",
   "execution_count": 22,
   "id": "8b6533e8",
   "metadata": {
    "scrolled": true
   },
   "outputs": [
    {
     "data": {
      "text/html": [
       "<div>\n",
       "<style scoped>\n",
       "    .dataframe tbody tr th:only-of-type {\n",
       "        vertical-align: middle;\n",
       "    }\n",
       "\n",
       "    .dataframe tbody tr th {\n",
       "        vertical-align: top;\n",
       "    }\n",
       "\n",
       "    .dataframe thead th {\n",
       "        text-align: right;\n",
       "    }\n",
       "</style>\n",
       "<table border=\"1\" class=\"dataframe\">\n",
       "  <thead>\n",
       "    <tr style=\"text-align: right;\">\n",
       "      <th></th>\n",
       "      <th>text</th>\n",
       "      <th>generated</th>\n",
       "    </tr>\n",
       "  </thead>\n",
       "  <tbody>\n",
       "    <tr>\n",
       "      <th>0</th>\n",
       "      <td>Car-free cities have become a subject of incre...</td>\n",
       "      <td>1</td>\n",
       "    </tr>\n",
       "    <tr>\n",
       "      <th>1</th>\n",
       "      <td>Car Free Cities  Car-free cities, a concept ga...</td>\n",
       "      <td>1</td>\n",
       "    </tr>\n",
       "    <tr>\n",
       "      <th>2</th>\n",
       "      <td>A Sustainable Urban Future  Car-free cities ...</td>\n",
       "      <td>1</td>\n",
       "    </tr>\n",
       "    <tr>\n",
       "      <th>3</th>\n",
       "      <td>Pioneering Sustainable Urban Living  In an e...</td>\n",
       "      <td>1</td>\n",
       "    </tr>\n",
       "    <tr>\n",
       "      <th>4</th>\n",
       "      <td>The Path to Sustainable Urban Living  In an ...</td>\n",
       "      <td>1</td>\n",
       "    </tr>\n",
       "  </tbody>\n",
       "</table>\n",
       "</div>"
      ],
      "text/plain": [
       "                                                text  generated\n",
       "0  Car-free cities have become a subject of incre...          1\n",
       "1  Car Free Cities  Car-free cities, a concept ga...          1\n",
       "2    A Sustainable Urban Future  Car-free cities ...          1\n",
       "3    Pioneering Sustainable Urban Living  In an e...          1\n",
       "4    The Path to Sustainable Urban Living  In an ...          1"
      ]
     },
     "execution_count": 22,
     "metadata": {},
     "output_type": "execute_result"
    }
   ],
   "source": [
    "df.head()"
   ]
  },
  {
   "cell_type": "code",
   "execution_count": 23,
   "id": "38185717",
   "metadata": {},
   "outputs": [],
   "source": [
    "vectorizer = TfidfVectorizer()\n",
    "\n",
    "# Learn vocabulary from training texts and vectorize training texts.\n",
    "x_train = vectorizer.fit_transform(x_train)\n",
    "\n",
    "# Vectorize test texts.\n",
    "x_test = vectorizer.transform(x_test)"
   ]
  },
  {
   "cell_type": "code",
   "execution_count": 24,
   "id": "9262b450",
   "metadata": {},
   "outputs": [
    {
     "data": {
      "text/plain": [
       "(23316, 64481)"
      ]
     },
     "execution_count": 24,
     "metadata": {},
     "output_type": "execute_result"
    }
   ],
   "source": [
    "x_train.shape"
   ]
  },
  {
   "cell_type": "code",
   "execution_count": 25,
   "id": "e777e855",
   "metadata": {},
   "outputs": [
    {
     "data": {
      "text/plain": [
       "15544"
      ]
     },
     "execution_count": 25,
     "metadata": {},
     "output_type": "execute_result"
    }
   ],
   "source": [
    "7772 + 7772"
   ]
  },
  {
   "cell_type": "code",
   "execution_count": 26,
   "id": "5ad1edcb",
   "metadata": {},
   "outputs": [],
   "source": [
    "x_train = scipy.sparse.csr_matrix.todense(x_train)\n",
    "x_test = scipy.sparse.csr_matrix.todense(x_test)"
   ]
  },
  {
   "cell_type": "code",
   "execution_count": 28,
   "id": "99c7d116",
   "metadata": {},
   "outputs": [
    {
     "data": {
      "text/plain": [
       "((23316, 64481), (1503438996, 1))"
      ]
     },
     "execution_count": 28,
     "metadata": {},
     "output_type": "execute_result"
    }
   ],
   "source": [
    "x_train.shape, x_train.reshape(-1, 1).shape"
   ]
  },
  {
   "cell_type": "code",
   "execution_count": 30,
   "id": "99948f44",
   "metadata": {},
   "outputs": [],
   "source": [
    "model = tf.keras.Sequential([\n",
    "                            tf.keras.layers.Dense(128, activation='relu', input_shape=(x_train.shape[1],)),\n",
    "                            tf.keras.layers.Dropout(0.2),\n",
    "                            tf.keras.layers.Dense(32, activation='relu'),\n",
    "                            tf.keras.layers.Dropout(0.2),\n",
    "                            tf.keras.layers.Dense(df['generated'].nunique(), activation='softmax')\n",
    "])"
   ]
  },
  {
   "cell_type": "code",
   "execution_count": 31,
   "id": "657ecf4f",
   "metadata": {},
   "outputs": [
    {
     "name": "stdout",
     "output_type": "stream",
     "text": [
      "Model: \"sequential\"\n",
      "_________________________________________________________________\n",
      " Layer (type)                Output Shape              Param #   \n",
      "=================================================================\n",
      " dense_2 (Dense)             (None, 128)               8253696   \n",
      "                                                                 \n",
      " dropout_2 (Dropout)         (None, 128)               0         \n",
      "                                                                 \n",
      " dense_3 (Dense)             (None, 32)                4128      \n",
      "                                                                 \n",
      " dropout_3 (Dropout)         (None, 32)                0         \n",
      "                                                                 \n",
      " dense_4 (Dense)             (None, 2)                 66        \n",
      "                                                                 \n",
      "=================================================================\n",
      "Total params: 8257890 (31.50 MB)\n",
      "Trainable params: 8257890 (31.50 MB)\n",
      "Non-trainable params: 0 (0.00 Byte)\n",
      "_________________________________________________________________\n"
     ]
    }
   ],
   "source": [
    "model.compile(loss='sparse_categorical_crossentropy', optimizer='adam', metrics=['accuracy'])\n",
    "model.summary()"
   ]
  },
  {
   "cell_type": "markdown",
   "id": "2f5ba594",
   "metadata": {},
   "source": [
    "Running out of RAM memory error"
   ]
  },
  {
   "cell_type": "code",
   "execution_count": 32,
   "id": "ce79dfee",
   "metadata": {},
   "outputs": [
    {
     "ename": "MemoryError",
     "evalue": "Unable to allocate 11.2 GiB for an array with shape (23316, 64481) and data type float64",
     "output_type": "error",
     "traceback": [
      "\u001b[1;31m---------------------------------------------------------------------------\u001b[0m",
      "\u001b[1;31mMemoryError\u001b[0m                               Traceback (most recent call last)",
      "File \u001b[1;32m<timed exec>:1\u001b[0m\n",
      "File \u001b[1;32m~\\anaconda3\\Lib\\site-packages\\keras\\src\\utils\\traceback_utils.py:70\u001b[0m, in \u001b[0;36mfilter_traceback.<locals>.error_handler\u001b[1;34m(*args, **kwargs)\u001b[0m\n\u001b[0;32m     67\u001b[0m     filtered_tb \u001b[38;5;241m=\u001b[39m _process_traceback_frames(e\u001b[38;5;241m.\u001b[39m__traceback__)\n\u001b[0;32m     68\u001b[0m     \u001b[38;5;66;03m# To get the full stack trace, call:\u001b[39;00m\n\u001b[0;32m     69\u001b[0m     \u001b[38;5;66;03m# `tf.debugging.disable_traceback_filtering()`\u001b[39;00m\n\u001b[1;32m---> 70\u001b[0m     \u001b[38;5;28;01mraise\u001b[39;00m e\u001b[38;5;241m.\u001b[39mwith_traceback(filtered_tb) \u001b[38;5;28;01mfrom\u001b[39;00m \u001b[38;5;28;01mNone\u001b[39;00m\n\u001b[0;32m     71\u001b[0m \u001b[38;5;28;01mfinally\u001b[39;00m:\n\u001b[0;32m     72\u001b[0m     \u001b[38;5;28;01mdel\u001b[39;00m filtered_tb\n",
      "File \u001b[1;32m~\\anaconda3\\Lib\\site-packages\\tensorflow\\python\\framework\\constant_op.py:86\u001b[0m, in \u001b[0;36mconvert_to_eager_tensor\u001b[1;34m(value, ctx, dtype)\u001b[0m\n\u001b[0;32m     66\u001b[0m \u001b[38;5;250m\u001b[39m\u001b[38;5;124;03m\"\"\"Converts the given `value` to an `EagerTensor`.\u001b[39;00m\n\u001b[0;32m     67\u001b[0m \n\u001b[0;32m     68\u001b[0m \u001b[38;5;124;03mNote that this function could return cached copies of created constants for\u001b[39;00m\n\u001b[1;32m   (...)\u001b[0m\n\u001b[0;32m     80\u001b[0m \u001b[38;5;124;03m  TypeError: if `dtype` is not compatible with the type of t.\u001b[39;00m\n\u001b[0;32m     81\u001b[0m \u001b[38;5;124;03m\"\"\"\u001b[39;00m\n\u001b[0;32m     82\u001b[0m \u001b[38;5;28;01mif\u001b[39;00m \u001b[38;5;28misinstance\u001b[39m(value, np\u001b[38;5;241m.\u001b[39mndarray):\n\u001b[0;32m     83\u001b[0m   \u001b[38;5;66;03m# Make a copy explicitly because the EagerTensor might share the underlying\u001b[39;00m\n\u001b[0;32m     84\u001b[0m   \u001b[38;5;66;03m# memory with the input array. Without this copy, users will be able to\u001b[39;00m\n\u001b[0;32m     85\u001b[0m   \u001b[38;5;66;03m# modify the EagerTensor after its creation by changing the input array.\u001b[39;00m\n\u001b[1;32m---> 86\u001b[0m   value \u001b[38;5;241m=\u001b[39m value\u001b[38;5;241m.\u001b[39mcopy()\n\u001b[0;32m     87\u001b[0m \u001b[38;5;28;01mif\u001b[39;00m \u001b[38;5;28misinstance\u001b[39m(value, ops\u001b[38;5;241m.\u001b[39mEagerTensor):\n\u001b[0;32m     88\u001b[0m   \u001b[38;5;28;01mif\u001b[39;00m dtype \u001b[38;5;129;01mis\u001b[39;00m \u001b[38;5;129;01mnot\u001b[39;00m \u001b[38;5;28;01mNone\u001b[39;00m \u001b[38;5;129;01mand\u001b[39;00m value\u001b[38;5;241m.\u001b[39mdtype \u001b[38;5;241m!=\u001b[39m dtype:\n",
      "\u001b[1;31mMemoryError\u001b[0m: Unable to allocate 11.2 GiB for an array with shape (23316, 64481) and data type float64"
     ]
    }
   ],
   "source": [
    "%%time\n",
    "history = model.fit(x_train, y_train, epochs=10, validation_data=(x_test, y_test), verbose=2)"
   ]
  },
  {
   "cell_type": "code",
   "execution_count": 33,
   "id": "f5bbb34b",
   "metadata": {},
   "outputs": [
    {
     "ename": "NameError",
     "evalue": "name 'history' is not defined",
     "output_type": "error",
     "traceback": [
      "\u001b[1;31m---------------------------------------------------------------------------\u001b[0m",
      "\u001b[1;31mNameError\u001b[0m                                 Traceback (most recent call last)",
      "Cell \u001b[1;32mIn[33], line 5\u001b[0m\n\u001b[0;32m      3\u001b[0m plt\u001b[38;5;241m.\u001b[39mfigure(figsize\u001b[38;5;241m=\u001b[39m(\u001b[38;5;241m12\u001b[39m, \u001b[38;5;241m5\u001b[39m))\n\u001b[0;32m      4\u001b[0m plt\u001b[38;5;241m.\u001b[39msubplot(\u001b[38;5;241m121\u001b[39m)\n\u001b[1;32m----> 5\u001b[0m plt\u001b[38;5;241m.\u001b[39mplot(history\u001b[38;5;241m.\u001b[39mhistory[\u001b[38;5;124m'\u001b[39m\u001b[38;5;124mloss\u001b[39m\u001b[38;5;124m'\u001b[39m])\n\u001b[0;32m      6\u001b[0m plt\u001b[38;5;241m.\u001b[39mplot(history\u001b[38;5;241m.\u001b[39mhistory[\u001b[38;5;124m'\u001b[39m\u001b[38;5;124mval_loss\u001b[39m\u001b[38;5;124m'\u001b[39m]);\n\u001b[0;32m      7\u001b[0m plt\u001b[38;5;241m.\u001b[39mxlabel(\u001b[38;5;124m\"\u001b[39m\u001b[38;5;124mEpochs\u001b[39m\u001b[38;5;124m\"\u001b[39m)\n",
      "\u001b[1;31mNameError\u001b[0m: name 'history' is not defined"
     ]
    },
    {
     "data": {
      "image/png": "[encoded data removed]",
      "text/plain": [
       "<Figure size 1200x500 with 1 Axes>"
      ]
     },
     "metadata": {},
     "output_type": "display_data"
    }
   ],
   "source": [
    "import matplotlib.pyplot as plt\n",
    "\n",
    "plt.figure(figsize=(12, 5))\n",
    "plt.subplot(121)\n",
    "plt.plot(history.history['loss'])\n",
    "plt.plot(history.history['val_loss']);\n",
    "plt.xlabel(\"Epochs\")\n",
    "plt.ylabel(\"Loss\")\n",
    "plt.legend(['train loss', 'test loss']);\n",
    "ax = plt.subplot(122)\n",
    "plt.plot(history.history['accuracy'])\n",
    "plt.plot(history.history['val_accuracy'])\n",
    "plt.xlabel(\"Epochs\")\n",
    "plt.ylabel(\"Accuracy\")\n",
    "plt.legend(['train accuracy', 'test accuracy']);"
   ]
  },
  {
   "cell_type": "code",
   "execution_count": null,
   "id": "72b12f71",
   "metadata": {},
   "outputs": [],
   "source": []
  },
  {
   "cell_type": "code",
   "execution_count": null,
   "id": "debf03b2",
   "metadata": {},
   "outputs": [],
   "source": []
  }
 ],
 "metadata": {
  "kernelspec": {
   "display_name": "Python 3 (ipykernel)",
   "language": "python",
   "name": "python3"
  },
  "language_info": {
   "codemirror_mode": {
    "name": "ipython",
    "version": 3
   },
   "file_extension": ".py",
   "mimetype": "text/x-python",
   "name": "python",
   "nbconvert_exporter": "python",
   "pygments_lexer": "ipython3",
   "version": "3.11.4"
  }
 },
 "nbformat": 4,
 "nbformat_minor": 5
}
